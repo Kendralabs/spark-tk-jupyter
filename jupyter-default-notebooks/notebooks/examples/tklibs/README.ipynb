{
 "cells": [
  {
   "cell_type": "markdown",
   "metadata": {},
   "source": [
    "## Spark Toolkit library Help\n",
    "\n",
    "Helpfull links\n",
    "- [spark-tk documentation](http://trustedanalytics.github.io/spark-tk/) if you ever need help.\n",
    "- [spark-tk git repo](https://github.com/trustedanalytics/spark-tk) - spark-tk source code\n",
    "- [spark-tk releases](https://github.com/trustedanalytics/spark-tk/releases)\n",
    "\n",
    "\n",
    "See the other [spark-tk Examples](/tree/examples/tklibs/sparktk) \n"
   ]
  },
  {
   "cell_type": "code",
   "execution_count": null,
   "metadata": {
    "collapsed": false
   },
   "outputs": [],
   "source": [
    "# First, let's verify that the sparktk libraries are installed\n",
    "import sparktk\n",
    "print \"spark tk installation path = %s\" % (sparktk.__path__)\n",
    "\n",
    "from sparktk import TkContext\n",
    "tc = TkContext(master=\"local\")"
   ]
  }
 ],
 "metadata": {
  "anaconda-cloud": {},
  "kernelspec": {
   "display_name": "Python 2",
   "language": "python",
   "name": "python2"
  },
  "language_info": {
   "codemirror_mode": {
    "name": "ipython",
    "version": 2
   },
   "file_extension": ".py",
   "mimetype": "text/x-python",
   "name": "python",
   "nbconvert_exporter": "python",
   "pygments_lexer": "ipython2",
   "version": "2.7.5"
  }
 },
 "nbformat": 4,
 "nbformat_minor": 0
}
