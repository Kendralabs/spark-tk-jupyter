{
 "cells": [
  {
   "cell_type": "markdown",
   "metadata": {
    "collapsed": true
   },
   "source": [
    "## Welcome\n",
    "\n",
    "Welcome to the Jupyter Notebooks in TAP.  \n",
    "\n",
    "If you are new to Jupyter we recommend starting with \"Help -> User Interface Tour\".\n",
    "\n",
    "Under the [examples](/tree/examples) folder you'll find some example notebooks for working with different libraries:\n",
    "\n",
    "- [Pandas](/tree/examples/pandas-cookbook)\n",
    "- [Spark](/tree/examples/spark)\n",
    "- [tklibs](/tree/examples/tklibs)\n",
    "\n",
    "\n",
    "\n",
    "## Help Menus\n",
    "\n",
    "On the right side of the tool bar you can find the **Help** menus. Under the **Help** menu is general documentation for Jupyter, Python, and libraries like pandas. Learn about keyboard shortcuts for Jupyter under \"Help -> Keyboard Shortcuts\". \n",
    "\n",
    "\n",
    "## Learning Python\n",
    "\n",
    "If you are new to Python consider starting with the [Hitchhiker's Guide to Python](http://docs.python-guide.org/en/latest/intro/learning/) which lists many resources for learning Python.\n",
    "\n",
    "## Installing Python Packages with Pip2.7\n",
    "\n",
    "Many python packages come pre-installed (pandas, scikit-learn, matplotlib, numpy) but if you need to install additional packages go to the [Jupyter dashboard](/tree) and then choose \"New -> Terminal\".\n",
    "\n",
    "Within the Terminal window you can use conda at the command line to install python packages.\n",
    "\n",
    "```bash\n",
    "# list all packages installed\n",
    "pip2.7 list\n",
    "# search for a package by name\n",
    "pip2.7 search pandas\n",
    "# install a package by name\n",
    "pip2.7 install pandas\n",
    "# get help\n",
    "pip2.7 --help\n",
    "```\n",
    "\n",
    "You can also access pip2.7 directly in a notebook by prefixing your command with an exclamation point:"
   ]
  },
  {
   "cell_type": "code",
   "execution_count": null,
   "metadata": {
    "collapsed": false
   },
   "outputs": [],
   "source": [
    "# list all packages installed\n",
    "!pip2.7 list"
   ]
  },
  {
   "cell_type": "markdown",
   "metadata": {
    "collapsed": true
   },
   "source": [
    "## Troubleshooting\n",
    "\n",
    "If your notebook stops working in an unexpected way try:\n",
    "- Restarting the kernel: choose the menu item \"Kernel -> Restart\".\n",
    "- Shutting down your notebook and reopening it: visit the [Jupyter dashboard](/tree), choose \"Running\" tab, and click the \"Shutdown\" button.\n",
    "\n",
    "## Links\n",
    "\n",
    "- [sparktk](http://trustedanalytics.github.io/sparktk) - the Trusted Analytics Libraries, Spark Toolkit documentation\n",
    "- [Jupyter](http://jupyter.org/) - project website\n",
    "- [Spark](http://spark.apache.org/) - project website\n",
    "- [Notebook Viewer](https://nbviewer.jupyter.org/) - a website for sharing Jupyter notebooks, many good examples are available"
   ]
  },
  {
   "cell_type": "markdown",
   "metadata": {
    "collapsed": true
   },
   "source": [
    "## Using custom DAAL or SparkTK packages"
   ]
  },
  {
   "cell_type": "markdown",
   "metadata": {},
   "source": [
    "Both DAAL and SparkTK rely on the following environment variables to be set:\n",
    "\n",
    "- SPARKTK_HOME\n",
    "- DAALTK_HOME\n",
    "- LD_LIBRARY_PATH\n",
    "\n",
    "These variables are listed in the file: \"daaltk.sh\"\n",
    "and they are currently set to the following values:"
   ]
  },
  {
   "cell_type": "code",
   "execution_count": null,
   "metadata": {
    "collapsed": false
   },
   "outputs": [],
   "source": [
    "import os\n",
    "print os.environ['SPARKTK_HOME']\n",
    "print os.environ['DAALTK_HOME']\n",
    "print os.environ['LD_LIBRARY_PATH']"
   ]
  },
  {
   "cell_type": "markdown",
   "metadata": {},
   "source": [
    "Once the new packages are uploaded and extracted within Jupyter, above variables need to have new values assigned to them at the begining of the script to overwrite the default values."
   ]
  }
 ],
 "metadata": {
  "anaconda-cloud": {},
  "kernelspec": {
   "display_name": "Python 2",
   "language": "python",
   "name": "python2"
  },
  "language_info": {
   "codemirror_mode": {
    "name": "ipython",
    "version": 2
   },
   "file_extension": ".py",
   "mimetype": "text/x-python",
   "name": "python",
   "nbconvert_exporter": "python",
   "pygments_lexer": "ipython2",
   "version": "2.7.5"
  }
 },
 "nbformat": 4,
 "nbformat_minor": 0
}
